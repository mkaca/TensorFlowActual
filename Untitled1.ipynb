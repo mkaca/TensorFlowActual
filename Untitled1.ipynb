{
 "cells": [
  {
   "cell_type": "code",
   "execution_count": 1,
   "metadata": {},
   "outputs": [
    {
     "ename": "SyntaxError",
     "evalue": "invalid syntax (CopiedIPythonCode.py, line 20)",
     "output_type": "error",
     "traceback": [
      "Traceback \u001b[1;36m(most recent call last)\u001b[0m:\n",
      "  File \u001b[0;32m\"c:\\users\\dabes\\appdata\\local\\programs\\python\\python35\\lib\\site-packages\\IPython\\core\\interactiveshell.py\"\u001b[0m, line \u001b[0;32m2910\u001b[0m, in \u001b[0;35mrun_code\u001b[0m\n    exec(code_obj, self.user_global_ns, self.user_ns)\n",
      "\u001b[1;36m  File \u001b[1;32m\"<ipython-input-1-ee5e8c9292f2>\"\u001b[1;36m, line \u001b[1;32m1\u001b[1;36m, in \u001b[1;35m<module>\u001b[1;36m\u001b[0m\n\u001b[1;33m    import CopiedIPythonCode\u001b[0m\n",
      "\u001b[1;36m  File \u001b[1;32m\"C:\\Users\\dabes\\Desktop\\TensorFlow\\CopiedIPythonCode.py\"\u001b[1;36m, line \u001b[1;32m20\u001b[0m\n\u001b[1;33m    %matplotlib inline\u001b[0m\n\u001b[1;37m    ^\u001b[0m\n\u001b[1;31mSyntaxError\u001b[0m\u001b[1;31m:\u001b[0m invalid syntax\n"
     ]
    }
   ],
   "source": [
    "import CopiedIPythonCode"
   ]
  },
  {
   "cell_type": "code",
   "execution_count": 2,
   "metadata": {},
   "outputs": [],
   "source": [
    "%matplotlib inline\n"
   ]
  },
  {
   "cell_type": "code",
   "execution_count": 3,
   "metadata": {},
   "outputs": [
    {
     "name": "stdout",
     "output_type": "stream",
     "text": [
      "NIST_data/0/hsf_1.pickle already present - Skipping pickling.\n",
      "NIST_data/1/hsf_1.pickle already present - Skipping pickling.\n",
      "NIST_data/2/hsf_1.pickle already present - Skipping pickling.\n",
      "NIST_data/3/hsf_1.pickle already present - Skipping pickling.\n",
      "NIST_data/4/hsf_1.pickle already present - Skipping pickling.\n",
      "NIST_data/5/hsf_1.pickle already present - Skipping pickling.\n",
      "NIST_data/6/hsf_1.pickle already present - Skipping pickling.\n",
      "NIST_data/7/hsf_1.pickle already present - Skipping pickling.\n",
      "NIST_data/8/hsf_1.pickle already present - Skipping pickling.\n",
      "NIST_data/9/hsf_1.pickle already present - Skipping pickling.\n",
      "NIST_data/A/hsf_1.pickle already present - Skipping pickling.\n",
      "NIST_data/J/hsf_1.pickle already present - Skipping pickling.\n",
      "NIST_data/K/hsf_1.pickle already present - Skipping pickling.\n",
      "NIST_data/Q/hsf_1.pickle already present - Skipping pickling.\n",
      "NIST_data/0/hsf_0.pickle already present - Skipping pickling.\n",
      "NIST_data/1/hsf_0.pickle already present - Skipping pickling.\n",
      "NIST_data/2/hsf_0.pickle already present - Skipping pickling.\n",
      "NIST_data/3/hsf_0.pickle already present - Skipping pickling.\n",
      "NIST_data/4/hsf_0.pickle already present - Skipping pickling.\n",
      "NIST_data/5/hsf_0.pickle already present - Skipping pickling.\n",
      "NIST_data/6/hsf_0.pickle already present - Skipping pickling.\n",
      "NIST_data/7/hsf_0.pickle already present - Skipping pickling.\n",
      "NIST_data/8/hsf_0.pickle already present - Skipping pickling.\n",
      "NIST_data/9/hsf_0.pickle already present - Skipping pickling.\n",
      "NIST_data/A/hsf_0.pickle already present - Skipping pickling.\n",
      "NIST_data/J/hsf_0.pickle already present - Skipping pickling.\n",
      "NIST_data/K/hsf_0.pickle already present - Skipping pickling.\n",
      "NIST_data/Q/hsf_0.pickle already present - Skipping pickling.\n"
     ]
    },
    {
     "data": {
      "image/png": "[encoded data removed]",
      "text/plain": [
       "<matplotlib.figure.Figure at 0x256d6759400>"
      ]
     },
     "metadata": {},
     "output_type": "display_data"
    }
   ],
   "source": [
    "import CopiedIPythonCode"
   ]
  },
  {
   "cell_type": "code",
   "execution_count": null,
   "metadata": {},
   "outputs": [],
   "source": []
  }
 ],
 "metadata": {
  "kernelspec": {
   "display_name": "Python 3",
   "language": "python",
   "name": "python3"
  },
  "language_info": {
   "codemirror_mode": {
    "name": "ipython",
    "version": 3
   },
   "file_extension": ".py",
   "mimetype": "text/x-python",
   "name": "python",
   "nbconvert_exporter": "python",
   "pygments_lexer": "ipython3",
   "version": "3.5.2"
  }
 },
 "nbformat": 4,
 "nbformat_minor": 2
}
